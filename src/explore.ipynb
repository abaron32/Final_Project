{
    "cells": [
        {
            "cell_type": "code",
            "execution_count": 2,
            "metadata": {},
            "outputs": [],
            "source": [
                "import pandas as pd \n",
                "import matplotlib.pyplot as plt \n",
                "import plotly.express as px \n",
                "import streamlit as st\n"
            ]
        },
        {
            "cell_type": "code",
            "execution_count": 3,
            "metadata": {},
            "outputs": [],
            "source": [
                "# Example importing the CSV here\n",
                "\n",
                "# dataframe = pd.read_csv('../path/to/file.csv')\n",
                "# dataframe.describe()\n",
                "df_final = pd.read_csv('df_final_topics.csv')"
            ]
        },
        {
            "cell_type": "code",
            "execution_count": 2,
            "metadata": {},
            "outputs": [
                {
                    "name": "stdout",
                    "output_type": "stream",
                    "text": [
                        "Archive:  ../data/processed/df_final_topics.zip\n",
                        "replace df_final_topics.csv? [y]es, [n]o, [A]ll, [N]one, [r]ename: ^C\n",
                        "mv: missing destination file operand after '../data/processed/df_final'\n",
                        "Try 'mv --help' for more information.\n"
                    ]
                }
            ],
            "source": [
                "!unzip ../data/processed/df_final_topics.zip\n",
                "!mv df_final"
            ]
        }
    ],
    "metadata": {
        "kernelspec": {
            "display_name": "Python 3.8.13 64-bit ('3.8.13')",
            "language": "python",
            "name": "python3"
        },
        "language_info": {
            "codemirror_mode": {
                "name": "ipython",
                "version": 3
            },
            "file_extension": ".py",
            "mimetype": "text/x-python",
            "name": "python",
            "nbconvert_exporter": "python",
            "pygments_lexer": "ipython3",
            "version": "3.8.13"
        },
        "orig_nbformat": 4,
        "vscode": {
            "interpreter": {
                "hash": "110cc1dee26208153f2972f08a2ad52b6a56238dc66d48e87fb757ef2996db56"
            }
        }
    },
    "nbformat": 4,
    "nbformat_minor": 2
}
